{
  "nbformat": 4,
  "nbformat_minor": 0,
  "metadata": {
    "colab": {
      "provenance": []
    },
    "kernelspec": {
      "name": "python3",
      "display_name": "Python 3"
    },
    "language_info": {
      "name": "python"
    }
  },
  "cells": [
    {
      "cell_type": "markdown",
      "source": [],
      "metadata": {
        "id": "TgivWpdnM5u3"
      }
    },
    {
      "cell_type": "markdown",
      "source": [
        "\n",
        "Q2) Gradient Descent using Armijo’s Rule (3 marks)\n",
        "Consider the function f(x, y) = 10*x**4 − 20*x**2*y + x**2 + 10*y**2 − 2*x + 1. Write a code in your chosen programming language to find a stationary point of this function using gradient descent where the step size α is chosen using Armijos Rule described in Section 4.4.3.3 in T2.\n",
        "\n",
        "\n",
        "Deliverables: The handwritten code used to find the minimum by Armijo’s Rule enabled gradient descent. The first 10 iterates of the gradient de-scent algorithm where the individual iterates of x, y, α, f(x, y) should be d=written (the output of the code) separately to show the progress of gradient descent scheme. Also mention the optimal points x∗, y∗ and f(x∗, y∗) obtained by the converged algorithm and all the parameters chosen in the Armijo’s Rule."
      ],
      "metadata": {
        "id": "aGlH6gEjNMlM"
      }
    },
    {
      "cell_type": "code",
      "source": [
        "import numpy as np\n",
        "\n",
        "def f(x, y):\n",
        "    return 10 * x**4 - 20 * x**2 * y + x**2 + 10 * y**2 - 2 * x + 1\n",
        "\n",
        "def gradient(x, y):\n",
        "    df_dx = 40 * x**3 - 40 * x * y + 2 * x - 2\n",
        "    df_dy = -20 * x**2 + 20 * y\n",
        "    return np.array([df_dx, df_dy])\n",
        "\n",
        "def armijo_rule(x, y, grad, alpha=1.0, beta=0.5):\n",
        "    global counter\n",
        "\n",
        "    while f(x - alpha * grad[0], y - alpha * grad[1]) > f(x, y) - beta * alpha * np.dot(grad, grad):\n",
        "        alpha *= beta\n",
        "\n",
        "    if (counter<10):\n",
        "      print(f'x = {x:.4f}, y = {y:.4f}, alpha = {alpha:.4f}, f(x,y) = {f(x,y) :.4f}')\n",
        "      counter+=1\n",
        "\n",
        "    return alpha\n",
        "\n",
        "# Initial guess\n",
        "x0, y0 = 2.0, 1.0\n",
        "\n",
        "#intialise counter for printing iterations\n",
        "counter = 0\n",
        "\n",
        "#print for log\n",
        "print(\"First 10 iterations of gradient descent algorithm\")\n",
        "\n",
        "# Gradient descent\n",
        "for _ in range(1000):  # Maximum 1000 iterations\n",
        "    grad = gradient(x0,y0)\n",
        "    step_size = armijo_rule(x0,y0,grad)\n",
        "    x0 -= step_size * grad[0]\n",
        "    y0 -= step_size * grad[1]\n",
        "\n",
        "print(f\"\\nStationary point (x*, y*): ({x0:.4f}, {y0:.4f})\")\n",
        "print(f\"Function value at stationary point f(x∗, y∗): {f(x0, y0):.4f}\")\n",
        "\n",
        "print(f\"all the parameters chosen in the Armijo’s Rule (Initial values only as values change with each iteration)\")\n",
        "print(f\"x0=2.0, y0=1.0, grad={gradient(2.0,1.0)}, alpha=1.0, beta=0.5\")\n"
      ],
      "metadata": {
        "colab": {
          "base_uri": "https://localhost:8080/"
        },
        "id": "UjIEDGHZNPvR",
        "outputId": "359ba715-1bad-4977-c3b8-6e7de94d5908"
      },
      "execution_count": 44,
      "outputs": [
        {
          "output_type": "stream",
          "name": "stdout",
          "text": [
            "First 10 iterations of gradient descent algorithm\n",
            "x = 2.0000, y = 1.0000, alpha = 0.0020, f(x,y) = 91.0000\n",
            "x = 1.5273, y = 1.1172, alpha = 0.0039, f(x,y) = 15.0547\n",
            "x = 1.2331, y = 1.2122, alpha = 0.0039, f(x,y) = 1.0057\n",
            "x = 1.1719, y = 1.2363, alpha = 0.0039, f(x,y) = 0.2173\n",
            "x = 1.1454, y = 1.2470, alpha = 0.0078, f(x,y) = 0.0635\n",
            "x = 1.1199, y = 1.2571, alpha = 0.0156, f(x,y) = 0.0145\n",
            "x = 1.1182, y = 1.2562, alpha = 0.0156, f(x,y) = 0.0143\n",
            "x = 1.1186, y = 1.2544, alpha = 0.0156, f(x,y) = 0.0142\n",
            "x = 1.1171, y = 1.2534, alpha = 0.0312, f(x,y) = 0.0140\n",
            "x = 1.1174, y = 1.2500, alpha = 0.0078, f(x,y) = 0.0138\n",
            "\n",
            "Stationary point (x*, y*): (1.0000, 1.0000)\n",
            "Function value at stationary point f(x∗, y∗): 0.0000\n",
            "all the parameters chosen in the Armijo’s Rule (Initial values only as values change with each iteration)\n",
            "x0=2.0, y0=1.0, grad=[242. -60.], alpha=1.0, beta=0.5\n"
          ]
        }
      ]
    }
  ]
}